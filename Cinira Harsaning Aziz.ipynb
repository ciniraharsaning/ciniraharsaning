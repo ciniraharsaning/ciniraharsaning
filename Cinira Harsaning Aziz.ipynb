{
  "cells": [
    {
      "cell_type": "markdown",
      "metadata": {
        "id": "view-in-github",
        "colab_type": "text"
      },
      "source": [
        "<a href=\"https://colab.research.google.com/github/ciniraharsaning/ciniraharsaning/blob/main/Cinira%20Harsaning%20Aziz.ipynb\" target=\"_parent\"><img src=\"https://colab.research.google.com/assets/colab-badge.svg\" alt=\"Open In Colab\"/></a>"
      ]
    },
    {
      "cell_type": "markdown",
      "metadata": {
        "id": "AwhzdjSog-fj"
      },
      "source": [
        "## **Latihan Pandas 1**\n",
        "\n",
        "## Jangan di-run! Buat file baru untuk menjawab"
      ]
    },
    {
      "cell_type": "markdown",
      "metadata": {
        "id": "32pHkOzWg-fm"
      },
      "source": [
        "**Membuat DataFrame**\n",
        "\n",
        "Ikuti semua petunjuk yang harus dilakukan di bawah ini."
      ]
    },
    {
      "cell_type": "markdown",
      "metadata": {
        "id": "NoD724BJg-fn"
      },
      "source": [
        "**Step 1. Import library yang dibutuhkan.**"
      ]
    },
    {
      "cell_type": "code",
      "execution_count": null,
      "metadata": {
        "id": "taoecEQAg-fn"
      },
      "outputs": [],
      "source": []
    },
    {
      "cell_type": "markdown",
      "metadata": {
        "id": "aurxZLndg-fn"
      },
      "source": [
        "**Step 2. Buat dictionary untuk membuat DataFrame berjumlah 5 key dan masing-masing key memiliki value berupa list dengan 10 item. Isi dari dictionary  mengikuti output Step 3.**"
      ]
    },
    {
      "cell_type": "code",
      "execution_count": null,
      "metadata": {
        "id": "VLH01QNLg-fo"
      },
      "outputs": [],
      "source": []
    },
    {
      "cell_type": "markdown",
      "metadata": {
        "id": "Tzqr7_1ng-fo"
      },
      "source": [
        "**Step 3. Ubah dictionary dari Step.2 menjadi bentuk DataFrame dan simpan ke dalam variabel baru bernama df.**"
      ]
    },
    {
      "cell_type": "code",
      "execution_count": null,
      "metadata": {
        "id": "M4aKURwXg-fo",
        "outputId": "ab9589c7-d324-4539-ccd8-64f53da194fe"
      },
      "outputs": [
        {
          "data": {
            "text/html": [
              "<div>\n",
              "<style scoped>\n",
              "    .dataframe tbody tr th:only-of-type {\n",
              "        vertical-align: middle;\n",
              "    }\n",
              "\n",
              "    .dataframe tbody tr th {\n",
              "        vertical-align: top;\n",
              "    }\n",
              "\n",
              "    .dataframe thead th {\n",
              "        text-align: right;\n",
              "    }\n",
              "</style>\n",
              "<table border=\"1\" class=\"dataframe\">\n",
              "  <thead>\n",
              "    <tr style=\"text-align: right;\">\n",
              "      <th></th>\n",
              "      <th>Nama</th>\n",
              "      <th>Umur</th>\n",
              "      <th>Gender</th>\n",
              "      <th>Pekerjaan</th>\n",
              "      <th>Domisili</th>\n",
              "    </tr>\n",
              "  </thead>\n",
              "  <tbody>\n",
              "    <tr>\n",
              "      <th>0</th>\n",
              "      <td>Andi</td>\n",
              "      <td>24</td>\n",
              "      <td>Pria</td>\n",
              "      <td>Data Analyst</td>\n",
              "      <td>Jakarta</td>\n",
              "    </tr>\n",
              "    <tr>\n",
              "      <th>1</th>\n",
              "      <td>Budi</td>\n",
              "      <td>25</td>\n",
              "      <td>Pria</td>\n",
              "      <td>Data Engineer</td>\n",
              "      <td>Tangerang Selatan</td>\n",
              "    </tr>\n",
              "    <tr>\n",
              "      <th>2</th>\n",
              "      <td>Caca</td>\n",
              "      <td>30</td>\n",
              "      <td>Wanita</td>\n",
              "      <td>Data Scientist</td>\n",
              "      <td>Jakarta</td>\n",
              "    </tr>\n",
              "    <tr>\n",
              "      <th>3</th>\n",
              "      <td>Dedi</td>\n",
              "      <td>32</td>\n",
              "      <td>Pria</td>\n",
              "      <td>Data Scientist</td>\n",
              "      <td>Bandung</td>\n",
              "    </tr>\n",
              "    <tr>\n",
              "      <th>4</th>\n",
              "      <td>Erika</td>\n",
              "      <td>28</td>\n",
              "      <td>Wanita</td>\n",
              "      <td>Data Analyst</td>\n",
              "      <td>Jakarta</td>\n",
              "    </tr>\n",
              "    <tr>\n",
              "      <th>5</th>\n",
              "      <td>Fahri</td>\n",
              "      <td>24</td>\n",
              "      <td>Pria</td>\n",
              "      <td>Data Engineer</td>\n",
              "      <td>Surabaya</td>\n",
              "    </tr>\n",
              "    <tr>\n",
              "      <th>6</th>\n",
              "      <td>Gina</td>\n",
              "      <td>29</td>\n",
              "      <td>Wanita</td>\n",
              "      <td>ML Engineer</td>\n",
              "      <td>Bandung</td>\n",
              "    </tr>\n",
              "    <tr>\n",
              "      <th>7</th>\n",
              "      <td>Hani</td>\n",
              "      <td>31</td>\n",
              "      <td>Wanita</td>\n",
              "      <td>ML Researcher</td>\n",
              "      <td>Yogyakarta</td>\n",
              "    </tr>\n",
              "    <tr>\n",
              "      <th>8</th>\n",
              "      <td>Irja</td>\n",
              "      <td>30</td>\n",
              "      <td>Pria</td>\n",
              "      <td>BI Analyst</td>\n",
              "      <td>Jakarta</td>\n",
              "    </tr>\n",
              "    <tr>\n",
              "      <th>9</th>\n",
              "      <td>Jarot</td>\n",
              "      <td>29</td>\n",
              "      <td>Pria</td>\n",
              "      <td>Data Analyst</td>\n",
              "      <td>Tangerang Selatan</td>\n",
              "    </tr>\n",
              "  </tbody>\n",
              "</table>\n",
              "</div>"
            ],
            "text/plain": [
              "    Nama  Umur  Gender       Pekerjaan           Domisili\n",
              "0   Andi    24    Pria    Data Analyst            Jakarta\n",
              "1   Budi    25    Pria   Data Engineer  Tangerang Selatan\n",
              "2   Caca    30  Wanita  Data Scientist            Jakarta\n",
              "3   Dedi    32    Pria  Data Scientist            Bandung\n",
              "4  Erika    28  Wanita    Data Analyst            Jakarta\n",
              "5  Fahri    24    Pria   Data Engineer           Surabaya\n",
              "6   Gina    29  Wanita     ML Engineer            Bandung\n",
              "7   Hani    31  Wanita   ML Researcher         Yogyakarta\n",
              "8   Irja    30    Pria      BI Analyst            Jakarta\n",
              "9  Jarot    29    Pria    Data Analyst  Tangerang Selatan"
            ]
          },
          "execution_count": 5,
          "metadata": {},
          "output_type": "execute_result"
        }
      ],
      "source": []
    },
    {
      "cell_type": "markdown",
      "metadata": {
        "id": "M18Cbd7jg-fp"
      },
      "source": [
        "**Step 4. Ubah urutan kolom tersebut menjadi seperti berikut: Nama, Gender, Umur, Domisili, Pekerjaan.**\n",
        "\n"
      ]
    },
    {
      "cell_type": "code",
      "execution_count": null,
      "metadata": {
        "id": "6e5eXjagg-fp",
        "outputId": "206834d5-f7cf-44f4-8ab1-eb2ffbed60db"
      },
      "outputs": [
        {
          "data": {
            "text/html": [
              "<div>\n",
              "<style scoped>\n",
              "    .dataframe tbody tr th:only-of-type {\n",
              "        vertical-align: middle;\n",
              "    }\n",
              "\n",
              "    .dataframe tbody tr th {\n",
              "        vertical-align: top;\n",
              "    }\n",
              "\n",
              "    .dataframe thead th {\n",
              "        text-align: right;\n",
              "    }\n",
              "</style>\n",
              "<table border=\"1\" class=\"dataframe\">\n",
              "  <thead>\n",
              "    <tr style=\"text-align: right;\">\n",
              "      <th></th>\n",
              "      <th>Nama</th>\n",
              "      <th>Gender</th>\n",
              "      <th>Umur</th>\n",
              "      <th>Domisili</th>\n",
              "      <th>Pekerjaan</th>\n",
              "    </tr>\n",
              "  </thead>\n",
              "  <tbody>\n",
              "    <tr>\n",
              "      <th>0</th>\n",
              "      <td>Andi</td>\n",
              "      <td>Pria</td>\n",
              "      <td>24</td>\n",
              "      <td>Jakarta</td>\n",
              "      <td>Data Analyst</td>\n",
              "    </tr>\n",
              "    <tr>\n",
              "      <th>1</th>\n",
              "      <td>Budi</td>\n",
              "      <td>Pria</td>\n",
              "      <td>25</td>\n",
              "      <td>Tangerang Selatan</td>\n",
              "      <td>Data Engineer</td>\n",
              "    </tr>\n",
              "    <tr>\n",
              "      <th>2</th>\n",
              "      <td>Caca</td>\n",
              "      <td>Wanita</td>\n",
              "      <td>30</td>\n",
              "      <td>Jakarta</td>\n",
              "      <td>Data Scientist</td>\n",
              "    </tr>\n",
              "    <tr>\n",
              "      <th>3</th>\n",
              "      <td>Dedi</td>\n",
              "      <td>Pria</td>\n",
              "      <td>32</td>\n",
              "      <td>Bandung</td>\n",
              "      <td>Data Scientist</td>\n",
              "    </tr>\n",
              "    <tr>\n",
              "      <th>4</th>\n",
              "      <td>Erika</td>\n",
              "      <td>Wanita</td>\n",
              "      <td>28</td>\n",
              "      <td>Jakarta</td>\n",
              "      <td>Data Analyst</td>\n",
              "    </tr>\n",
              "    <tr>\n",
              "      <th>5</th>\n",
              "      <td>Fahri</td>\n",
              "      <td>Pria</td>\n",
              "      <td>24</td>\n",
              "      <td>Surabaya</td>\n",
              "      <td>Data Engineer</td>\n",
              "    </tr>\n",
              "    <tr>\n",
              "      <th>6</th>\n",
              "      <td>Gina</td>\n",
              "      <td>Wanita</td>\n",
              "      <td>29</td>\n",
              "      <td>Bandung</td>\n",
              "      <td>ML Engineer</td>\n",
              "    </tr>\n",
              "    <tr>\n",
              "      <th>7</th>\n",
              "      <td>Hani</td>\n",
              "      <td>Wanita</td>\n",
              "      <td>31</td>\n",
              "      <td>Yogyakarta</td>\n",
              "      <td>ML Researcher</td>\n",
              "    </tr>\n",
              "    <tr>\n",
              "      <th>8</th>\n",
              "      <td>Irja</td>\n",
              "      <td>Pria</td>\n",
              "      <td>30</td>\n",
              "      <td>Jakarta</td>\n",
              "      <td>BI Analyst</td>\n",
              "    </tr>\n",
              "    <tr>\n",
              "      <th>9</th>\n",
              "      <td>Jarot</td>\n",
              "      <td>Pria</td>\n",
              "      <td>29</td>\n",
              "      <td>Tangerang Selatan</td>\n",
              "      <td>Data Analyst</td>\n",
              "    </tr>\n",
              "  </tbody>\n",
              "</table>\n",
              "</div>"
            ],
            "text/plain": [
              "    Nama  Gender  Umur           Domisili       Pekerjaan\n",
              "0   Andi    Pria    24            Jakarta    Data Analyst\n",
              "1   Budi    Pria    25  Tangerang Selatan   Data Engineer\n",
              "2   Caca  Wanita    30            Jakarta  Data Scientist\n",
              "3   Dedi    Pria    32            Bandung  Data Scientist\n",
              "4  Erika  Wanita    28            Jakarta    Data Analyst\n",
              "5  Fahri    Pria    24           Surabaya   Data Engineer\n",
              "6   Gina  Wanita    29            Bandung     ML Engineer\n",
              "7   Hani  Wanita    31         Yogyakarta   ML Researcher\n",
              "8   Irja    Pria    30            Jakarta      BI Analyst\n",
              "9  Jarot    Pria    29  Tangerang Selatan    Data Analyst"
            ]
          },
          "execution_count": 7,
          "metadata": {},
          "output_type": "execute_result"
        }
      ],
      "source": []
    },
    {
      "cell_type": "markdown",
      "metadata": {
        "id": "fFrj2Optg-fq"
      },
      "source": [
        "**Step 5. Tambahkan 1 kolom baru bernama 'Hobi' dan isikan datanya seperti output berikut.**"
      ]
    },
    {
      "cell_type": "code",
      "execution_count": null,
      "metadata": {
        "id": "t4FPqi7Dg-fq",
        "outputId": "884cd21a-c1c1-43db-c476-65b5a79b239b"
      },
      "outputs": [
        {
          "data": {
            "text/html": [
              "<div>\n",
              "<style scoped>\n",
              "    .dataframe tbody tr th:only-of-type {\n",
              "        vertical-align: middle;\n",
              "    }\n",
              "\n",
              "    .dataframe tbody tr th {\n",
              "        vertical-align: top;\n",
              "    }\n",
              "\n",
              "    .dataframe thead th {\n",
              "        text-align: right;\n",
              "    }\n",
              "</style>\n",
              "<table border=\"1\" class=\"dataframe\">\n",
              "  <thead>\n",
              "    <tr style=\"text-align: right;\">\n",
              "      <th></th>\n",
              "      <th>Nama</th>\n",
              "      <th>Gender</th>\n",
              "      <th>Umur</th>\n",
              "      <th>Domisili</th>\n",
              "      <th>Pekerjaan</th>\n",
              "      <th>Hobi</th>\n",
              "    </tr>\n",
              "  </thead>\n",
              "  <tbody>\n",
              "    <tr>\n",
              "      <th>0</th>\n",
              "      <td>Andi</td>\n",
              "      <td>Pria</td>\n",
              "      <td>24</td>\n",
              "      <td>Jakarta</td>\n",
              "      <td>Data Analyst</td>\n",
              "      <td>Gaming</td>\n",
              "    </tr>\n",
              "    <tr>\n",
              "      <th>1</th>\n",
              "      <td>Budi</td>\n",
              "      <td>Pria</td>\n",
              "      <td>25</td>\n",
              "      <td>Tangerang Selatan</td>\n",
              "      <td>Data Engineer</td>\n",
              "      <td>Futsal</td>\n",
              "    </tr>\n",
              "    <tr>\n",
              "      <th>2</th>\n",
              "      <td>Caca</td>\n",
              "      <td>Wanita</td>\n",
              "      <td>30</td>\n",
              "      <td>Jakarta</td>\n",
              "      <td>Data Scientist</td>\n",
              "      <td>Baca</td>\n",
              "    </tr>\n",
              "    <tr>\n",
              "      <th>3</th>\n",
              "      <td>Dedi</td>\n",
              "      <td>Pria</td>\n",
              "      <td>32</td>\n",
              "      <td>Bandung</td>\n",
              "      <td>Data Scientist</td>\n",
              "      <td>Gaming</td>\n",
              "    </tr>\n",
              "    <tr>\n",
              "      <th>4</th>\n",
              "      <td>Erika</td>\n",
              "      <td>Wanita</td>\n",
              "      <td>28</td>\n",
              "      <td>Jakarta</td>\n",
              "      <td>Data Analyst</td>\n",
              "      <td>Masak</td>\n",
              "    </tr>\n",
              "    <tr>\n",
              "      <th>5</th>\n",
              "      <td>Fahri</td>\n",
              "      <td>Pria</td>\n",
              "      <td>24</td>\n",
              "      <td>Surabaya</td>\n",
              "      <td>Data Engineer</td>\n",
              "      <td>Traveling</td>\n",
              "    </tr>\n",
              "    <tr>\n",
              "      <th>6</th>\n",
              "      <td>Gina</td>\n",
              "      <td>Wanita</td>\n",
              "      <td>29</td>\n",
              "      <td>Bandung</td>\n",
              "      <td>ML Engineer</td>\n",
              "      <td>Basket</td>\n",
              "    </tr>\n",
              "    <tr>\n",
              "      <th>7</th>\n",
              "      <td>Hani</td>\n",
              "      <td>Wanita</td>\n",
              "      <td>31</td>\n",
              "      <td>Yogyakarta</td>\n",
              "      <td>ML Researcher</td>\n",
              "      <td>Traveling</td>\n",
              "    </tr>\n",
              "    <tr>\n",
              "      <th>8</th>\n",
              "      <td>Irja</td>\n",
              "      <td>Pria</td>\n",
              "      <td>30</td>\n",
              "      <td>Jakarta</td>\n",
              "      <td>BI Analyst</td>\n",
              "      <td>Gaming</td>\n",
              "    </tr>\n",
              "    <tr>\n",
              "      <th>9</th>\n",
              "      <td>Jarot</td>\n",
              "      <td>Pria</td>\n",
              "      <td>29</td>\n",
              "      <td>Tangerang Selatan</td>\n",
              "      <td>Data Analyst</td>\n",
              "      <td>Futsal</td>\n",
              "    </tr>\n",
              "  </tbody>\n",
              "</table>\n",
              "</div>"
            ],
            "text/plain": [
              "    Nama  Gender  Umur           Domisili       Pekerjaan       Hobi\n",
              "0   Andi    Pria    24            Jakarta    Data Analyst     Gaming\n",
              "1   Budi    Pria    25  Tangerang Selatan   Data Engineer     Futsal\n",
              "2   Caca  Wanita    30            Jakarta  Data Scientist       Baca\n",
              "3   Dedi    Pria    32            Bandung  Data Scientist     Gaming\n",
              "4  Erika  Wanita    28            Jakarta    Data Analyst      Masak\n",
              "5  Fahri    Pria    24           Surabaya   Data Engineer  Traveling\n",
              "6   Gina  Wanita    29            Bandung     ML Engineer     Basket\n",
              "7   Hani  Wanita    31         Yogyakarta   ML Researcher  Traveling\n",
              "8   Irja    Pria    30            Jakarta      BI Analyst     Gaming\n",
              "9  Jarot    Pria    29  Tangerang Selatan    Data Analyst     Futsal"
            ]
          },
          "execution_count": 8,
          "metadata": {},
          "output_type": "execute_result"
        }
      ],
      "source": []
    },
    {
      "cell_type": "markdown",
      "metadata": {
        "id": "jANLYv1Ig-fq"
      },
      "source": [
        "**Soal Lanjutan**"
      ]
    },
    {
      "cell_type": "markdown",
      "metadata": {
        "id": "xN2DdtsTg-fr"
      },
      "source": [
        "**6. Gunakan .iloc untuk mengambil data Dedi, Fahri, Hani**"
      ]
    },
    {
      "cell_type": "code",
      "execution_count": null,
      "metadata": {
        "id": "MopeNuNog-fr",
        "outputId": "488ac836-4459-4d74-d311-b56ef16801bd"
      },
      "outputs": [
        {
          "data": {
            "text/html": [
              "<div>\n",
              "<style scoped>\n",
              "    .dataframe tbody tr th:only-of-type {\n",
              "        vertical-align: middle;\n",
              "    }\n",
              "\n",
              "    .dataframe tbody tr th {\n",
              "        vertical-align: top;\n",
              "    }\n",
              "\n",
              "    .dataframe thead th {\n",
              "        text-align: right;\n",
              "    }\n",
              "</style>\n",
              "<table border=\"1\" class=\"dataframe\">\n",
              "  <thead>\n",
              "    <tr style=\"text-align: right;\">\n",
              "      <th></th>\n",
              "      <th>Nama</th>\n",
              "      <th>Gender</th>\n",
              "      <th>Umur</th>\n",
              "      <th>Domisili</th>\n",
              "      <th>Pekerjaan</th>\n",
              "      <th>Hobi</th>\n",
              "    </tr>\n",
              "  </thead>\n",
              "  <tbody>\n",
              "    <tr>\n",
              "      <th>3</th>\n",
              "      <td>Dedi</td>\n",
              "      <td>Pria</td>\n",
              "      <td>32</td>\n",
              "      <td>Bandung</td>\n",
              "      <td>Data Scientist</td>\n",
              "      <td>Gaming</td>\n",
              "    </tr>\n",
              "    <tr>\n",
              "      <th>5</th>\n",
              "      <td>Fahri</td>\n",
              "      <td>Pria</td>\n",
              "      <td>24</td>\n",
              "      <td>Surabaya</td>\n",
              "      <td>Data Engineer</td>\n",
              "      <td>Traveling</td>\n",
              "    </tr>\n",
              "    <tr>\n",
              "      <th>7</th>\n",
              "      <td>Hani</td>\n",
              "      <td>Wanita</td>\n",
              "      <td>31</td>\n",
              "      <td>Yogyakarta</td>\n",
              "      <td>ML Researcher</td>\n",
              "      <td>Traveling</td>\n",
              "    </tr>\n",
              "  </tbody>\n",
              "</table>\n",
              "</div>"
            ],
            "text/plain": [
              "    Nama  Gender  Umur    Domisili       Pekerjaan       Hobi\n",
              "3   Dedi    Pria    32     Bandung  Data Scientist     Gaming\n",
              "5  Fahri    Pria    24    Surabaya   Data Engineer  Traveling\n",
              "7   Hani  Wanita    31  Yogyakarta   ML Researcher  Traveling"
            ]
          },
          "execution_count": 10,
          "metadata": {},
          "output_type": "execute_result"
        }
      ],
      "source": []
    },
    {
      "cell_type": "markdown",
      "metadata": {
        "id": "Pdx17k97g-fr"
      },
      "source": [
        "**7. Gunakan .loc untuk menampilkan domisili dan pekerjaan dari Caca dan Irja (termasuk kolom nama)**\n"
      ]
    },
    {
      "cell_type": "code",
      "execution_count": null,
      "metadata": {
        "id": "qGE24cyeg-fr",
        "outputId": "6b7f3101-8a00-4ee9-9f91-3341fbe2ec86"
      },
      "outputs": [
        {
          "data": {
            "text/html": [
              "<div>\n",
              "<style scoped>\n",
              "    .dataframe tbody tr th:only-of-type {\n",
              "        vertical-align: middle;\n",
              "    }\n",
              "\n",
              "    .dataframe tbody tr th {\n",
              "        vertical-align: top;\n",
              "    }\n",
              "\n",
              "    .dataframe thead th {\n",
              "        text-align: right;\n",
              "    }\n",
              "</style>\n",
              "<table border=\"1\" class=\"dataframe\">\n",
              "  <thead>\n",
              "    <tr style=\"text-align: right;\">\n",
              "      <th></th>\n",
              "      <th>Nama</th>\n",
              "      <th>Domisili</th>\n",
              "      <th>Pekerjaan</th>\n",
              "    </tr>\n",
              "  </thead>\n",
              "  <tbody>\n",
              "    <tr>\n",
              "      <th>2</th>\n",
              "      <td>Caca</td>\n",
              "      <td>Jakarta</td>\n",
              "      <td>Data Scientist</td>\n",
              "    </tr>\n",
              "    <tr>\n",
              "      <th>8</th>\n",
              "      <td>Irja</td>\n",
              "      <td>Jakarta</td>\n",
              "      <td>BI Analyst</td>\n",
              "    </tr>\n",
              "  </tbody>\n",
              "</table>\n",
              "</div>"
            ],
            "text/plain": [
              "   Nama Domisili       Pekerjaan\n",
              "2  Caca  Jakarta  Data Scientist\n",
              "8  Irja  Jakarta      BI Analyst"
            ]
          },
          "execution_count": 12,
          "metadata": {},
          "output_type": "execute_result"
        }
      ],
      "source": []
    },
    {
      "cell_type": "markdown",
      "metadata": {
        "id": "zaxLRqhlg-fr"
      },
      "source": [
        "**8. Gunakan .loc untuk menampilkan semua data dari Hani, Irja, Jarot**"
      ]
    },
    {
      "cell_type": "code",
      "execution_count": null,
      "metadata": {
        "id": "QATt4SgOg-fr",
        "outputId": "955557fb-0cd9-4993-d28d-ed0c4f1c1e61"
      },
      "outputs": [
        {
          "data": {
            "text/html": [
              "<div>\n",
              "<style scoped>\n",
              "    .dataframe tbody tr th:only-of-type {\n",
              "        vertical-align: middle;\n",
              "    }\n",
              "\n",
              "    .dataframe tbody tr th {\n",
              "        vertical-align: top;\n",
              "    }\n",
              "\n",
              "    .dataframe thead th {\n",
              "        text-align: right;\n",
              "    }\n",
              "</style>\n",
              "<table border=\"1\" class=\"dataframe\">\n",
              "  <thead>\n",
              "    <tr style=\"text-align: right;\">\n",
              "      <th></th>\n",
              "      <th>Nama</th>\n",
              "      <th>Gender</th>\n",
              "      <th>Umur</th>\n",
              "      <th>Domisili</th>\n",
              "      <th>Pekerjaan</th>\n",
              "      <th>Hobi</th>\n",
              "    </tr>\n",
              "  </thead>\n",
              "  <tbody>\n",
              "    <tr>\n",
              "      <th>7</th>\n",
              "      <td>Hani</td>\n",
              "      <td>Wanita</td>\n",
              "      <td>31</td>\n",
              "      <td>Yogyakarta</td>\n",
              "      <td>ML Researcher</td>\n",
              "      <td>Traveling</td>\n",
              "    </tr>\n",
              "    <tr>\n",
              "      <th>8</th>\n",
              "      <td>Irja</td>\n",
              "      <td>Pria</td>\n",
              "      <td>30</td>\n",
              "      <td>Jakarta</td>\n",
              "      <td>BI Analyst</td>\n",
              "      <td>Gaming</td>\n",
              "    </tr>\n",
              "    <tr>\n",
              "      <th>9</th>\n",
              "      <td>Jarot</td>\n",
              "      <td>Pria</td>\n",
              "      <td>29</td>\n",
              "      <td>Tangerang Selatan</td>\n",
              "      <td>Data Analyst</td>\n",
              "      <td>Futsal</td>\n",
              "    </tr>\n",
              "  </tbody>\n",
              "</table>\n",
              "</div>"
            ],
            "text/plain": [
              "    Nama  Gender  Umur           Domisili      Pekerjaan       Hobi\n",
              "7   Hani  Wanita    31         Yogyakarta  ML Researcher  Traveling\n",
              "8   Irja    Pria    30            Jakarta     BI Analyst     Gaming\n",
              "9  Jarot    Pria    29  Tangerang Selatan   Data Analyst     Futsal"
            ]
          },
          "execution_count": 13,
          "metadata": {},
          "output_type": "execute_result"
        }
      ],
      "source": []
    },
    {
      "cell_type": "markdown",
      "metadata": {
        "id": "6MtM09qwg-fs"
      },
      "source": [
        "**9. Siapa sajakah yang berumur lebih dari 30 tahun?**"
      ]
    },
    {
      "cell_type": "code",
      "execution_count": null,
      "metadata": {
        "id": "1pVF2q5Hg-fs",
        "outputId": "f72df51e-c549-4c0b-b125-e683330d272f"
      },
      "outputs": [
        {
          "data": {
            "text/html": [
              "<div>\n",
              "<style scoped>\n",
              "    .dataframe tbody tr th:only-of-type {\n",
              "        vertical-align: middle;\n",
              "    }\n",
              "\n",
              "    .dataframe tbody tr th {\n",
              "        vertical-align: top;\n",
              "    }\n",
              "\n",
              "    .dataframe thead th {\n",
              "        text-align: right;\n",
              "    }\n",
              "</style>\n",
              "<table border=\"1\" class=\"dataframe\">\n",
              "  <thead>\n",
              "    <tr style=\"text-align: right;\">\n",
              "      <th></th>\n",
              "      <th>Nama</th>\n",
              "      <th>Gender</th>\n",
              "      <th>Umur</th>\n",
              "      <th>Domisili</th>\n",
              "      <th>Pekerjaan</th>\n",
              "      <th>Hobi</th>\n",
              "    </tr>\n",
              "  </thead>\n",
              "  <tbody>\n",
              "    <tr>\n",
              "      <th>3</th>\n",
              "      <td>Dedi</td>\n",
              "      <td>Pria</td>\n",
              "      <td>32</td>\n",
              "      <td>Bandung</td>\n",
              "      <td>Data Scientist</td>\n",
              "      <td>Gaming</td>\n",
              "    </tr>\n",
              "    <tr>\n",
              "      <th>7</th>\n",
              "      <td>Hani</td>\n",
              "      <td>Wanita</td>\n",
              "      <td>31</td>\n",
              "      <td>Yogyakarta</td>\n",
              "      <td>ML Researcher</td>\n",
              "      <td>Traveling</td>\n",
              "    </tr>\n",
              "  </tbody>\n",
              "</table>\n",
              "</div>"
            ],
            "text/plain": [
              "   Nama  Gender  Umur    Domisili       Pekerjaan       Hobi\n",
              "3  Dedi    Pria    32     Bandung  Data Scientist     Gaming\n",
              "7  Hani  Wanita    31  Yogyakarta   ML Researcher  Traveling"
            ]
          },
          "execution_count": 14,
          "metadata": {},
          "output_type": "execute_result"
        }
      ],
      "source": []
    },
    {
      "cell_type": "markdown",
      "metadata": {
        "id": "0Z3Qwe0kg-fs"
      },
      "source": [
        "**10. Siapa sajakah yang berumur kurang dari 30 tahun dan hobinya Gaming?**"
      ]
    },
    {
      "cell_type": "code",
      "execution_count": null,
      "metadata": {
        "id": "2Mvi_njwg-fs",
        "outputId": "9bc29bf6-bfa8-46ea-827a-c0d6b6f8410c"
      },
      "outputs": [
        {
          "data": {
            "text/html": [
              "<div>\n",
              "<style scoped>\n",
              "    .dataframe tbody tr th:only-of-type {\n",
              "        vertical-align: middle;\n",
              "    }\n",
              "\n",
              "    .dataframe tbody tr th {\n",
              "        vertical-align: top;\n",
              "    }\n",
              "\n",
              "    .dataframe thead th {\n",
              "        text-align: right;\n",
              "    }\n",
              "</style>\n",
              "<table border=\"1\" class=\"dataframe\">\n",
              "  <thead>\n",
              "    <tr style=\"text-align: right;\">\n",
              "      <th></th>\n",
              "      <th>Nama</th>\n",
              "      <th>Gender</th>\n",
              "      <th>Umur</th>\n",
              "      <th>Domisili</th>\n",
              "      <th>Pekerjaan</th>\n",
              "      <th>Hobi</th>\n",
              "    </tr>\n",
              "  </thead>\n",
              "  <tbody>\n",
              "    <tr>\n",
              "      <th>0</th>\n",
              "      <td>Andi</td>\n",
              "      <td>Pria</td>\n",
              "      <td>24</td>\n",
              "      <td>Jakarta</td>\n",
              "      <td>Data Analyst</td>\n",
              "      <td>Gaming</td>\n",
              "    </tr>\n",
              "  </tbody>\n",
              "</table>\n",
              "</div>"
            ],
            "text/plain": [
              "   Nama Gender  Umur Domisili     Pekerjaan    Hobi\n",
              "0  Andi   Pria    24  Jakarta  Data Analyst  Gaming"
            ]
          },
          "execution_count": 15,
          "metadata": {},
          "output_type": "execute_result"
        }
      ],
      "source": []
    },
    {
      "cell_type": "markdown",
      "metadata": {
        "id": "gtxQwNxug-fs"
      },
      "source": [
        "**11. Tampilkan nama orang yang pekerjaannya adalah Data Analyst! Tampilkan kolom nama saja dalam bentuk Series!**"
      ]
    },
    {
      "cell_type": "code",
      "execution_count": null,
      "metadata": {
        "id": "JiWZUVa_g-fs",
        "outputId": "49027606-d101-46fd-9abe-d81e692ba90b"
      },
      "outputs": [
        {
          "data": {
            "text/plain": [
              "0     Andi\n",
              "4    Erika\n",
              "9    Jarot\n",
              "Name: Nama, dtype: object"
            ]
          },
          "execution_count": 16,
          "metadata": {},
          "output_type": "execute_result"
        }
      ],
      "source": []
    },
    {
      "cell_type": "markdown",
      "metadata": {
        "id": "OSoaujDjg-fs"
      },
      "source": [
        "**12. Apa saja pekerjaan orang-orang yang berdomisili di Jakarta? Tampilkan nama dan pekerjaannya!**"
      ]
    },
    {
      "cell_type": "code",
      "execution_count": null,
      "metadata": {
        "id": "8W3eb9x8g-ft",
        "outputId": "0c1c3971-ed9d-4e77-f4df-eff110e8b504"
      },
      "outputs": [
        {
          "data": {
            "text/html": [
              "<div>\n",
              "<style scoped>\n",
              "    .dataframe tbody tr th:only-of-type {\n",
              "        vertical-align: middle;\n",
              "    }\n",
              "\n",
              "    .dataframe tbody tr th {\n",
              "        vertical-align: top;\n",
              "    }\n",
              "\n",
              "    .dataframe thead th {\n",
              "        text-align: right;\n",
              "    }\n",
              "</style>\n",
              "<table border=\"1\" class=\"dataframe\">\n",
              "  <thead>\n",
              "    <tr style=\"text-align: right;\">\n",
              "      <th></th>\n",
              "      <th>Nama</th>\n",
              "      <th>Pekerjaan</th>\n",
              "    </tr>\n",
              "  </thead>\n",
              "  <tbody>\n",
              "    <tr>\n",
              "      <th>0</th>\n",
              "      <td>Andi</td>\n",
              "      <td>Data Analyst</td>\n",
              "    </tr>\n",
              "    <tr>\n",
              "      <th>2</th>\n",
              "      <td>Caca</td>\n",
              "      <td>Data Scientist</td>\n",
              "    </tr>\n",
              "    <tr>\n",
              "      <th>4</th>\n",
              "      <td>Erika</td>\n",
              "      <td>Data Analyst</td>\n",
              "    </tr>\n",
              "    <tr>\n",
              "      <th>8</th>\n",
              "      <td>Irja</td>\n",
              "      <td>BI Analyst</td>\n",
              "    </tr>\n",
              "  </tbody>\n",
              "</table>\n",
              "</div>"
            ],
            "text/plain": [
              "    Nama       Pekerjaan\n",
              "0   Andi    Data Analyst\n",
              "2   Caca  Data Scientist\n",
              "4  Erika    Data Analyst\n",
              "8   Irja      BI Analyst"
            ]
          },
          "execution_count": 17,
          "metadata": {},
          "output_type": "execute_result"
        }
      ],
      "source": []
    },
    {
      "cell_type": "markdown",
      "metadata": {
        "id": "tcjS1zI-g-ft"
      },
      "source": [
        "**13. Apa saja hobi para wanita yang ada di data? Tampilkan hanya kolom Nama, Hobi, Umur secara berurutan!**"
      ]
    },
    {
      "cell_type": "code",
      "execution_count": null,
      "metadata": {
        "id": "rdy8llmDg-ft",
        "outputId": "2658ac5f-5f4d-4382-dd6e-572d05ac6358"
      },
      "outputs": [
        {
          "data": {
            "text/html": [
              "<div>\n",
              "<style scoped>\n",
              "    .dataframe tbody tr th:only-of-type {\n",
              "        vertical-align: middle;\n",
              "    }\n",
              "\n",
              "    .dataframe tbody tr th {\n",
              "        vertical-align: top;\n",
              "    }\n",
              "\n",
              "    .dataframe thead th {\n",
              "        text-align: right;\n",
              "    }\n",
              "</style>\n",
              "<table border=\"1\" class=\"dataframe\">\n",
              "  <thead>\n",
              "    <tr style=\"text-align: right;\">\n",
              "      <th></th>\n",
              "      <th>Nama</th>\n",
              "      <th>Hobi</th>\n",
              "      <th>Umur</th>\n",
              "    </tr>\n",
              "  </thead>\n",
              "  <tbody>\n",
              "    <tr>\n",
              "      <th>2</th>\n",
              "      <td>Caca</td>\n",
              "      <td>Baca</td>\n",
              "      <td>30</td>\n",
              "    </tr>\n",
              "    <tr>\n",
              "      <th>4</th>\n",
              "      <td>Erika</td>\n",
              "      <td>Masak</td>\n",
              "      <td>28</td>\n",
              "    </tr>\n",
              "    <tr>\n",
              "      <th>6</th>\n",
              "      <td>Gina</td>\n",
              "      <td>Basket</td>\n",
              "      <td>29</td>\n",
              "    </tr>\n",
              "    <tr>\n",
              "      <th>7</th>\n",
              "      <td>Hani</td>\n",
              "      <td>Traveling</td>\n",
              "      <td>31</td>\n",
              "    </tr>\n",
              "  </tbody>\n",
              "</table>\n",
              "</div>"
            ],
            "text/plain": [
              "    Nama       Hobi  Umur\n",
              "2   Caca       Baca    30\n",
              "4  Erika      Masak    28\n",
              "6   Gina     Basket    29\n",
              "7   Hani  Traveling    31"
            ]
          },
          "execution_count": 19,
          "metadata": {},
          "output_type": "execute_result"
        }
      ],
      "source": []
    },
    {
      "cell_type": "markdown",
      "metadata": {
        "id": "Ytn5eeqhg-ft"
      },
      "source": [
        "**14. Siapa saja yang berumur lebih tua dari Erika? Tampilkan kolom nama saja dalam bentuk DataFrame!**"
      ]
    },
    {
      "cell_type": "code",
      "execution_count": null,
      "metadata": {
        "id": "C0NukR-gg-ft",
        "outputId": "8682219c-59d6-408b-d165-473c62b7a459"
      },
      "outputs": [
        {
          "data": {
            "text/html": [
              "<div>\n",
              "<style scoped>\n",
              "    .dataframe tbody tr th:only-of-type {\n",
              "        vertical-align: middle;\n",
              "    }\n",
              "\n",
              "    .dataframe tbody tr th {\n",
              "        vertical-align: top;\n",
              "    }\n",
              "\n",
              "    .dataframe thead th {\n",
              "        text-align: right;\n",
              "    }\n",
              "</style>\n",
              "<table border=\"1\" class=\"dataframe\">\n",
              "  <thead>\n",
              "    <tr style=\"text-align: right;\">\n",
              "      <th></th>\n",
              "      <th>Nama</th>\n",
              "    </tr>\n",
              "  </thead>\n",
              "  <tbody>\n",
              "    <tr>\n",
              "      <th>2</th>\n",
              "      <td>Caca</td>\n",
              "    </tr>\n",
              "    <tr>\n",
              "      <th>3</th>\n",
              "      <td>Dedi</td>\n",
              "    </tr>\n",
              "    <tr>\n",
              "      <th>6</th>\n",
              "      <td>Gina</td>\n",
              "    </tr>\n",
              "    <tr>\n",
              "      <th>7</th>\n",
              "      <td>Hani</td>\n",
              "    </tr>\n",
              "    <tr>\n",
              "      <th>8</th>\n",
              "      <td>Irja</td>\n",
              "    </tr>\n",
              "    <tr>\n",
              "      <th>9</th>\n",
              "      <td>Jarot</td>\n",
              "    </tr>\n",
              "  </tbody>\n",
              "</table>\n",
              "</div>"
            ],
            "text/plain": [
              "    Nama\n",
              "2   Caca\n",
              "3   Dedi\n",
              "6   Gina\n",
              "7   Hani\n",
              "8   Irja\n",
              "9  Jarot"
            ]
          },
          "execution_count": 21,
          "metadata": {},
          "output_type": "execute_result"
        }
      ],
      "source": []
    },
    {
      "cell_type": "markdown",
      "metadata": {
        "id": "cDVRuRlUg-ft"
      },
      "source": [
        "**15. Berdasarkan data, apakah ada wanita yang hobinya traveling?**"
      ]
    },
    {
      "cell_type": "code",
      "execution_count": null,
      "metadata": {
        "id": "fIN9pn3ug-fu",
        "outputId": "67991a59-65f2-4367-fc3c-3bdf3237861a"
      },
      "outputs": [
        {
          "data": {
            "text/html": [
              "<div>\n",
              "<style scoped>\n",
              "    .dataframe tbody tr th:only-of-type {\n",
              "        vertical-align: middle;\n",
              "    }\n",
              "\n",
              "    .dataframe tbody tr th {\n",
              "        vertical-align: top;\n",
              "    }\n",
              "\n",
              "    .dataframe thead th {\n",
              "        text-align: right;\n",
              "    }\n",
              "</style>\n",
              "<table border=\"1\" class=\"dataframe\">\n",
              "  <thead>\n",
              "    <tr style=\"text-align: right;\">\n",
              "      <th></th>\n",
              "      <th>Nama</th>\n",
              "      <th>Gender</th>\n",
              "      <th>Umur</th>\n",
              "      <th>Domisili</th>\n",
              "      <th>Pekerjaan</th>\n",
              "      <th>Hobi</th>\n",
              "    </tr>\n",
              "  </thead>\n",
              "  <tbody>\n",
              "    <tr>\n",
              "      <th>7</th>\n",
              "      <td>Hani</td>\n",
              "      <td>Wanita</td>\n",
              "      <td>31</td>\n",
              "      <td>Yogyakarta</td>\n",
              "      <td>ML Researcher</td>\n",
              "      <td>Traveling</td>\n",
              "    </tr>\n",
              "  </tbody>\n",
              "</table>\n",
              "</div>"
            ],
            "text/plain": [
              "   Nama  Gender  Umur    Domisili      Pekerjaan       Hobi\n",
              "7  Hani  Wanita    31  Yogyakarta  ML Researcher  Traveling"
            ]
          },
          "execution_count": 22,
          "metadata": {},
          "output_type": "execute_result"
        }
      ],
      "source": []
    }
  ],
  "metadata": {
    "kernelspec": {
      "display_name": "Python 3.10.5 64-bit",
      "language": "python",
      "name": "python3"
    },
    "language_info": {
      "codemirror_mode": {
        "name": "ipython",
        "version": 3
      },
      "file_extension": ".py",
      "mimetype": "text/x-python",
      "name": "python",
      "nbconvert_exporter": "python",
      "pygments_lexer": "ipython3",
      "version": "3.10.5"
    },
    "orig_nbformat": 4,
    "vscode": {
      "interpreter": {
        "hash": "729f74ff1f6188ced6e2e09166ca89b6222524874cfb9263d2b423b6b6b21f37"
      }
    },
    "colab": {
      "provenance": [],
      "include_colab_link": true
    }
  },
  "nbformat": 4,
  "nbformat_minor": 0
}